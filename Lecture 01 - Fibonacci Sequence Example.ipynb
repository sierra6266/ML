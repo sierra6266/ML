{
 "cells": [
  {
   "cell_type": "markdown",
   "id": "31a2c153-c0af-4087-8ba4-a1379c5e5a60",
   "metadata": {},
   "source": [
    "# Lecture 1 - Fibonacci Sequence Example in R #\n",
    "\n",
    "**Objective:** \n",
    "This example illustrates the the following R programming statements:\n",
    "- if-then-else\n",
    "- loops\n",
    "\n",
    "**Fibonacci sequence** = 0, 1, 1, 2, 3, 5, 8....\n",
    "\n",
    "Which can be expressed as:\n",
    "\n",
    "$ F_0 = 0, F_1 = 1$ and $F_n = F_{(n-1)} + F_{(n-2)}$ when $n > 1$\n"
   ]
  },
  {
   "cell_type": "code",
   "execution_count": 1,
   "id": "28f7ba76-b3cf-48e8-a72b-c9b3ffa59274",
   "metadata": {},
   "outputs": [
    {
     "name": "stdin",
     "output_type": "stream",
     "text": [
      "How many terms?  10\n"
     ]
    },
    {
     "name": "stdout",
     "output_type": "stream",
     "text": [
      "[1] \"Fibonacci sequence:\"\n",
      "[1] 0\n",
      "[1] 1\n",
      "[1] 1\n",
      "[1] 2\n",
      "[1] 3\n",
      "[1] 5\n",
      "[1] 8\n",
      "[1] 13\n",
      "[1] 21\n",
      "[1] 34\n"
     ]
    }
   ],
   "source": [
    "# Input n from the user\n",
    "n = as.integer(readline(prompt=\"How many terms? \"))\n",
    "\n",
    "# first two terms\n",
    "n1 = 0\n",
    "n2 = 1\n",
    "\n",
    "count = 2\n",
    "# check if the number of terms is valid\n",
    "if(n <= 0) {\n",
    "    print(\"Plese enter a positive integer\")\n",
    "} else {\n",
    "    if(n == 1) {\n",
    "        print(\"Fibonacci sequence:\")\n",
    "        print(n1)\n",
    "    } else {\n",
    "        print(\"Fibonacci sequence:\")\n",
    "        print(n1)\n",
    "        print(n2)\n",
    "        while(count < n) {\n",
    "            nth = n1 + n2\n",
    "            print(nth)\n",
    "            # update values\n",
    "            n1 = n2\n",
    "            n2 = nth\n",
    "            count = count + 1\n",
    "        }\n",
    "    }\n",
    "}\n"
   ]
  },
  {
   "cell_type": "code",
   "execution_count": null,
   "id": "8cf6482a-fcf6-4114-8c1d-8bad47efd3a8",
   "metadata": {},
   "outputs": [],
   "source": []
  }
 ],
 "metadata": {
  "kernelspec": {
   "display_name": "R",
   "language": "R",
   "name": "ir"
  },
  "language_info": {
   "codemirror_mode": "r",
   "file_extension": ".r",
   "mimetype": "text/x-r-source",
   "name": "R",
   "pygments_lexer": "r",
   "version": "4.3.1"
  }
 },
 "nbformat": 4,
 "nbformat_minor": 5
}
