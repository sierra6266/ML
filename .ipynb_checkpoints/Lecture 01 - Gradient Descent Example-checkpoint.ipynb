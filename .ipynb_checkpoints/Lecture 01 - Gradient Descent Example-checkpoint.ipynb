{
 "cells": [
  {
   "cell_type": "markdown",
   "id": "b6fe05aa-521d-4d09-bee2-0ad8427f9bd3",
   "metadata": {},
   "source": [
    "# Lecture 01 - Gradient Descent Example\n",
    "\n",
    "**Objective:** \n",
    "To learn how to use a dataset and perform a gradient descent loss on it."
   ]
  },
  {
   "cell_type": "markdown",
   "id": "59b3de0a-6c41-4db8-b9ab-05fdeab19030",
   "metadata": {},
   "source": [
    "## Look up the data set\n",
    "\n",
    "The datast mtcars is built it, so we will use the help() function to look up the information available on it"
   ]
  },
  {
   "cell_type": "code",
   "execution_count": 1,
   "id": "a4e379d9-7f03-4ceb-b728-562e411ecb2d",
   "metadata": {
    "tags": []
   },
   "outputs": [
    {
     "data": {
      "text/html": [
       "\n",
       "<table style=\"width: 100%;\"><tr><td>mtcars {datasets}</td><td style=\"text-align: right;\">R Documentation</td></tr></table>\n",
       "\n",
       "<h2 id='mtcars'>Motor Trend Car Road Tests</h2>\n",
       "\n",
       "<h3>Description</h3>\n",
       "\n",
       "<p>The data was extracted from the 1974 <em>Motor Trend</em> US magazine,\n",
       "and comprises fuel consumption and 10 aspects of\n",
       "automobile design and performance for 32 automobiles (1973&ndash;74\n",
       "models).\n",
       "</p>\n",
       "\n",
       "\n",
       "<h3>Usage</h3>\n",
       "\n",
       "<pre><code class='language-R'>mtcars</code></pre>\n",
       "\n",
       "\n",
       "<h3>Format</h3>\n",
       "\n",
       "<p>A data frame with 32 observations on 11 (numeric) variables.\n",
       "</p>\n",
       "\n",
       "<table>\n",
       "<tr>\n",
       " <td style=\"text-align: right;\">\n",
       "    [, 1] </td><td style=\"text-align: left;\"> mpg  </td><td style=\"text-align: left;\"> Miles/(US) gallon </td>\n",
       "</tr>\n",
       "<tr>\n",
       " <td style=\"text-align: right;\">\n",
       "    [, 2] </td><td style=\"text-align: left;\"> cyl  </td><td style=\"text-align: left;\"> Number of cylinders </td>\n",
       "</tr>\n",
       "<tr>\n",
       " <td style=\"text-align: right;\">\n",
       "    [, 3] </td><td style=\"text-align: left;\"> disp </td><td style=\"text-align: left;\"> Displacement (cu.in.) </td>\n",
       "</tr>\n",
       "<tr>\n",
       " <td style=\"text-align: right;\">\n",
       "    [, 4] </td><td style=\"text-align: left;\"> hp   </td><td style=\"text-align: left;\"> Gross horsepower </td>\n",
       "</tr>\n",
       "<tr>\n",
       " <td style=\"text-align: right;\">\n",
       "    [, 5] </td><td style=\"text-align: left;\"> drat </td><td style=\"text-align: left;\"> Rear axle ratio </td>\n",
       "</tr>\n",
       "<tr>\n",
       " <td style=\"text-align: right;\">\n",
       "    [, 6] </td><td style=\"text-align: left;\"> wt   </td><td style=\"text-align: left;\"> Weight (1000 lbs) </td>\n",
       "</tr>\n",
       "<tr>\n",
       " <td style=\"text-align: right;\">\n",
       "    [, 7] </td><td style=\"text-align: left;\"> qsec </td><td style=\"text-align: left;\"> 1/4 mile time </td>\n",
       "</tr>\n",
       "<tr>\n",
       " <td style=\"text-align: right;\">\n",
       "    [, 8] </td><td style=\"text-align: left;\"> vs   </td><td style=\"text-align: left;\"> Engine (0 = V-shaped, 1 = straight) </td>\n",
       "</tr>\n",
       "<tr>\n",
       " <td style=\"text-align: right;\">\n",
       "    [, 9] </td><td style=\"text-align: left;\"> am   </td><td style=\"text-align: left;\"> Transmission (0 = automatic, 1 = manual) </td>\n",
       "</tr>\n",
       "<tr>\n",
       " <td style=\"text-align: right;\">\n",
       "    [,10] </td><td style=\"text-align: left;\"> gear </td><td style=\"text-align: left;\"> Number of forward gears </td>\n",
       "</tr>\n",
       "<tr>\n",
       " <td style=\"text-align: right;\">\n",
       "    [,11] </td><td style=\"text-align: left;\"> carb </td><td style=\"text-align: left;\"> Number of carburetors\n",
       "  </td>\n",
       "</tr>\n",
       "\n",
       "</table>\n",
       "\n",
       "\n",
       "\n",
       "<h3>Note</h3>\n",
       "\n",
       "<p>Henderson and Velleman (1981) comment in a footnote to Table 1:\n",
       "&lsquo;Hocking [original transcriber]'s noncrucial coding of the\n",
       "Mazda's rotary engine as a straight six-cylinder engine and the\n",
       "Porsche's flat engine as a V engine, as well as the inclusion of the\n",
       "diesel Mercedes 240D, have been retained to enable direct comparisons\n",
       "to be made with previous analyses.&rsquo;\n",
       "</p>\n",
       "\n",
       "\n",
       "<h3>Source</h3>\n",
       "\n",
       "<p>Henderson and Velleman (1981),\n",
       "Building multiple regression models interactively.\n",
       "<em>Biometrics</em>, <b>37</b>, 391&ndash;411.\n",
       "</p>\n",
       "\n",
       "\n",
       "<h3>Examples</h3>\n",
       "\n",
       "<pre><code class='language-R'>require(graphics)\n",
       "pairs(mtcars, main = \"mtcars data\", gap = 1/4)\n",
       "coplot(mpg ~ disp | as.factor(cyl), data = mtcars,\n",
       "       panel = panel.smooth, rows = 1)\n",
       "## possibly more meaningful, e.g., for summary() or bivariate plots:\n",
       "mtcars2 &lt;- within(mtcars, {\n",
       "   vs &lt;- factor(vs, labels = c(\"V\", \"S\"))\n",
       "   am &lt;- factor(am, labels = c(\"automatic\", \"manual\"))\n",
       "   cyl  &lt;- ordered(cyl)\n",
       "   gear &lt;- ordered(gear)\n",
       "   carb &lt;- ordered(carb)\n",
       "})\n",
       "summary(mtcars2)\n",
       "</code></pre>\n",
       "\n",
       "<hr /><div style=\"text-align: center;\">[Package <em>datasets</em> version 4.3.1 ]</div>\n",
       "</div>"
      ],
      "text/latex": [
       "\\inputencoding{utf8}\n",
       "\\HeaderA{mtcars}{Motor Trend Car Road Tests}{mtcars}\n",
       "\\keyword{datasets}{mtcars}\n",
       "%\n",
       "\\begin{Description}\n",
       "The data was extracted from the 1974 \\emph{Motor Trend} US magazine,\n",
       "and comprises fuel consumption and 10 aspects of\n",
       "automobile design and performance for 32 automobiles (1973--74\n",
       "models).\n",
       "\\end{Description}\n",
       "%\n",
       "\\begin{Usage}\n",
       "\\begin{verbatim}\n",
       "mtcars\n",
       "\\end{verbatim}\n",
       "\\end{Usage}\n",
       "%\n",
       "\\begin{Format}\n",
       "A data frame with 32 observations on 11 (numeric) variables.\n",
       "\n",
       "\\Tabular{rll}{\n",
       "[, 1] & mpg  & Miles/(US) gallon \\\\{}\n",
       "[, 2] & cyl  & Number of cylinders \\\\{}\n",
       "[, 3] & disp & Displacement (cu.in.) \\\\{}\n",
       "[, 4] & hp   & Gross horsepower \\\\{}\n",
       "[, 5] & drat & Rear axle ratio \\\\{}\n",
       "[, 6] & wt   & Weight (1000 lbs) \\\\{}\n",
       "[, 7] & qsec & 1/4 mile time \\\\{}\n",
       "[, 8] & vs   & Engine (0 = V-shaped, 1 = straight) \\\\{}\n",
       "[, 9] & am   & Transmission (0 = automatic, 1 = manual) \\\\{}\n",
       "[,10] & gear & Number of forward gears \\\\{}\n",
       "[,11] & carb & Number of carburetors\n",
       "}\n",
       "\\end{Format}\n",
       "%\n",
       "\\begin{Note}\n",
       "Henderson and Velleman (1981) comment in a footnote to Table 1:\n",
       "`Hocking [original transcriber]'s noncrucial coding of the\n",
       "Mazda's rotary engine as a straight six-cylinder engine and the\n",
       "Porsche's flat engine as a V engine, as well as the inclusion of the\n",
       "diesel Mercedes 240D, have been retained to enable direct comparisons\n",
       "to be made with previous analyses.'\n",
       "\\end{Note}\n",
       "%\n",
       "\\begin{Source}\n",
       "Henderson and Velleman (1981),\n",
       "Building multiple regression models interactively.\n",
       "\\emph{Biometrics}, \\bold{37}, 391--411.\n",
       "\\end{Source}\n",
       "%\n",
       "\\begin{Examples}\n",
       "\\begin{ExampleCode}\n",
       "require(graphics)\n",
       "pairs(mtcars, main = \"mtcars data\", gap = 1/4)\n",
       "coplot(mpg ~ disp | as.factor(cyl), data = mtcars,\n",
       "       panel = panel.smooth, rows = 1)\n",
       "## possibly more meaningful, e.g., for summary() or bivariate plots:\n",
       "mtcars2 <- within(mtcars, {\n",
       "   vs <- factor(vs, labels = c(\"V\", \"S\"))\n",
       "   am <- factor(am, labels = c(\"automatic\", \"manual\"))\n",
       "   cyl  <- ordered(cyl)\n",
       "   gear <- ordered(gear)\n",
       "   carb <- ordered(carb)\n",
       "})\n",
       "summary(mtcars2)\n",
       "\\end{ExampleCode}\n",
       "\\end{Examples}"
      ],
      "text/plain": [
       "mtcars                package:datasets                 R Documentation\n",
       "\n",
       "_\bM_\bo_\bt_\bo_\br _\bT_\br_\be_\bn_\bd _\bC_\ba_\br _\bR_\bo_\ba_\bd _\bT_\be_\bs_\bt_\bs\n",
       "\n",
       "_\bD_\be_\bs_\bc_\br_\bi_\bp_\bt_\bi_\bo_\bn:\n",
       "\n",
       "     The data was extracted from the 1974 _Motor Trend_ US magazine,\n",
       "     and comprises fuel consumption and 10 aspects of automobile design\n",
       "     and performance for 32 automobiles (1973-74 models).\n",
       "\n",
       "_\bU_\bs_\ba_\bg_\be:\n",
       "\n",
       "     mtcars\n",
       "     \n",
       "_\bF_\bo_\br_\bm_\ba_\bt:\n",
       "\n",
       "     A data frame with 32 observations on 11 (numeric) variables.\n",
       "\n",
       "       [, 1]  mpg   Miles/(US) gallon                        \n",
       "       [, 2]  cyl   Number of cylinders                      \n",
       "       [, 3]  disp  Displacement (cu.in.)                    \n",
       "       [, 4]  hp    Gross horsepower                         \n",
       "       [, 5]  drat  Rear axle ratio                          \n",
       "       [, 6]  wt    Weight (1000 lbs)                        \n",
       "       [, 7]  qsec  1/4 mile time                            \n",
       "       [, 8]  vs    Engine (0 = V-shaped, 1 = straight)      \n",
       "       [, 9]  am    Transmission (0 = automatic, 1 = manual) \n",
       "       [,10]  gear  Number of forward gears                  \n",
       "       [,11]  carb  Number of carburetors                    \n",
       "      \n",
       "_\bN_\bo_\bt_\be:\n",
       "\n",
       "     Henderson and Velleman (1981) comment in a footnote to Table 1:\n",
       "     ‘Hocking [original transcriber]'s noncrucial coding of the Mazda's\n",
       "     rotary engine as a straight six-cylinder engine and the Porsche's\n",
       "     flat engine as a V engine, as well as the inclusion of the diesel\n",
       "     Mercedes 240D, have been retained to enable direct comparisons to\n",
       "     be made with previous analyses.’\n",
       "\n",
       "_\bS_\bo_\bu_\br_\bc_\be:\n",
       "\n",
       "     Henderson and Velleman (1981), Building multiple regression models\n",
       "     interactively.  _Biometrics_, *37*, 391-411.\n",
       "\n",
       "_\bE_\bx_\ba_\bm_\bp_\bl_\be_\bs:\n",
       "\n",
       "     require(graphics)\n",
       "     pairs(mtcars, main = \"mtcars data\", gap = 1/4)\n",
       "     coplot(mpg ~ disp | as.factor(cyl), data = mtcars,\n",
       "            panel = panel.smooth, rows = 1)\n",
       "     ## possibly more meaningful, e.g., for summary() or bivariate plots:\n",
       "     mtcars2 <- within(mtcars, {\n",
       "        vs <- factor(vs, labels = c(\"V\", \"S\"))\n",
       "        am <- factor(am, labels = c(\"automatic\", \"manual\"))\n",
       "        cyl  <- ordered(cyl)\n",
       "        gear <- ordered(gear)\n",
       "        carb <- ordered(carb)\n",
       "     })\n",
       "     summary(mtcars2)\n",
       "     "
      ]
     },
     "metadata": {},
     "output_type": "display_data"
    }
   ],
   "source": [
    "help(mtcars)\n"
   ]
  },
  {
   "cell_type": "markdown",
   "id": "f0d7f490-c3ff-4917-862c-c35d8498357f",
   "metadata": {},
   "source": [
    "### Load up the dataset"
   ]
  },
  {
   "cell_type": "code",
   "execution_count": 19,
   "id": "1e467e8c-0f68-41fe-a5de-870370219e18",
   "metadata": {
    "tags": []
   },
   "outputs": [
    {
     "name": "stderr",
     "output_type": "stream",
     "text": [
      "The following object is masked from package:ggplot2:\n",
      "\n",
      "    mpg\n",
      "\n",
      "\n",
      "The following objects are masked from mtcars (pos = 13):\n",
      "\n",
      "    am, carb, cyl, disp, drat, gear, hp, mpg, qsec, vs, wt\n",
      "\n",
      "\n"
     ]
    },
    {
     "data": {
      "image/png": "[encoded data removed]",
      "text/plain": [
       "Plot with title “MPG vs Engine Displacement”"
      ]
     },
     "metadata": {
      "image/png": {
       "height": 420,
       "width": 420
      }
     },
     "output_type": "display_data"
    }
   ],
   "source": [
    "attach(mtcars)\n",
    "plot(disp, mpg, col = \"blue\", pch = 20,\n",
    "    main = \"MPG vs Engine Displacement\")"
   ]
  },
  {
   "cell_type": "markdown",
   "id": "af784169-2169-4064-9a47-dd7b4da33c8d",
   "metadata": {},
   "source": [
    "### Build a linear regression model on fuel consumption (mpg) and engine discplacement (disp)\n",
    "And preent the coeffocients of ther egression model.\n",
    "\n",
    "#### Linear regression is based on fitting a line to the data\n",
    "\n",
    "$ y = m x + c$\n",
    "\n",
    "where:\n",
    " - $y$ is the outcome\n",
    " - $m$ is the slope \n",
    " - $x$ is the predictor\n",
    " - $c$ is the intercept \n",
    " \n",
    " We use the ML() function to fit the line and coeff() to obtain the intercept and slope of the x = disp"
   ]
  },
  {
   "cell_type": "code",
   "execution_count": 20,
   "id": "fa763fea-84c4-4fe1-8892-22d4cbbeeded",
   "metadata": {
    "tags": []
   },
   "outputs": [
    {
     "data": {
      "text/html": [
       "<style>\n",
       ".dl-inline {width: auto; margin:0; padding: 0}\n",
       ".dl-inline>dt, .dl-inline>dd {float: none; width: auto; display: inline-block}\n",
       ".dl-inline>dt::after {content: \":\\0020\"; padding-right: .5ex}\n",
       ".dl-inline>dt:not(:first-of-type) {padding-left: .5ex}\n",
       "</style><dl class=dl-inline><dt>(Intercept)</dt><dd>29.5998547561639</dd><dt>disp</dt><dd>-0.0412151199627861</dd></dl>\n"
      ],
      "text/latex": [
       "\\begin{description*}\n",
       "\\item[(Intercept)] 29.5998547561639\n",
       "\\item[disp] -0.0412151199627861\n",
       "\\end{description*}\n"
      ],
      "text/markdown": [
       "(Intercept)\n",
       ":   29.5998547561639disp\n",
       ":   -0.0412151199627861\n",
       "\n"
      ],
      "text/plain": [
       "(Intercept)        disp \n",
       "29.59985476 -0.04121512 "
      ]
     },
     "metadata": {},
     "output_type": "display_data"
    }
   ],
   "source": [
    "model <- lm(mpg ~ disp, data = mtcars) # save the model\n",
    "coef(model) # call the coefficients"
   ]
  },
  {
   "cell_type": "markdown",
   "id": "ad854f47-0ffd-4d3f-a341-caeffa49af30",
   "metadata": {},
   "source": [
    "#### Now we plot the data and the fitted line "
   ]
  },
  {
   "cell_type": "code",
   "execution_count": 21,
   "id": "a5d683fb-e68a-4e81-9d45-38e42b4c7190",
   "metadata": {
    "tags": []
   },
   "outputs": [
    {
     "data": {
      "image/png": "[encoded data removed]",
      "text/plain": [
       "plot without title"
      ]
     },
     "metadata": {
      "image/png": {
       "height": 420,
       "width": 420
      }
     },
     "output_type": "display_data"
    }
   ],
   "source": [
    "plot(disp, mpg, col = \"blue\", pch = 20)"
   ]
  },
  {
   "cell_type": "markdown",
   "id": "796f744f-52e2-43fb-bfce-865e492b39f3",
   "metadata": {
    "tags": []
   },
   "source": [
    "## Calculate the error of prediction using the fitted line\n",
    "\n",
    "### The error is based on Mean Squared Error\n",
    "$ MSE = Σ(y_{actual} – y_{preds})^2 / n$\n",
    "\n",
    "#### notes says MSE used for Gaussian regression loss"
   ]
  },
  {
   "cell_type": "code",
   "execution_count": 22,
   "id": "3e06afd8-8257-4f6a-a326-7bfaaac1b96c",
   "metadata": {
    "tags": []
   },
   "outputs": [
    {
     "name": "stdout",
     "output_type": "stream",
     "text": [
      "MSE = 9.911209"
     ]
    },
    {
     "data": {
      "text/html": [
       "<style>\n",
       ".dl-inline {width: auto; margin:0; padding: 0}\n",
       ".dl-inline>dt, .dl-inline>dd {float: none; width: auto; display: inline-block}\n",
       ".dl-inline>dt::after {content: \":\\0020\"; padding-right: .5ex}\n",
       ".dl-inline>dt:not(:first-of-type) {padding-left: .5ex}\n",
       "</style><dl class=dl-inline><dt>Mazda RX4</dt><dd>23.0054355621182</dd><dt>Mazda RX4 Wag</dt><dd>23.0054355621182</dd><dt>Datsun 710</dt><dd>25.148621800183</dd><dt>Hornet 4 Drive</dt><dd>18.9663538057651</dd><dt>Hornet Sportabout</dt><dd>14.7624115695609</dd><dt>Valiant</dt><dd>20.3264527645371</dd><dt>Duster 360</dt><dd>14.7624115695609</dd><dt>Merc 240D</dt><dd>23.5535966576232</dd><dt>Merc 230</dt><dd>23.7967658654037</dd><dt>Merc 280</dt><dd>22.692200650401</dd><dt>Merc 280C</dt><dd>22.692200650401</dd><dt>Merc 450SE</dt><dd>18.2327246704275</dd><dt>Merc 450SL</dt><dd>18.2327246704275</dd><dt>Merc 450SLC</dt><dd>18.2327246704275</dd><dt>Cadillac Fleetwood</dt><dd>10.1463181337289</dd><dt>Lincoln Continental</dt><dd>10.6408995732823</dd><dt>Chrysler Imperial</dt><dd>11.465201972538</dd><dt>Fiat 128</dt><dd>26.3562248150927</dd><dt>Honda Civic</dt><dd>26.479870174981</dd><dt>Toyota Corolla</dt><dd>26.6694597268098</dd><dt>Toyota Corona</dt><dd>24.6499188486333</dd><dt>Dodge Challenger</dt><dd>16.493446607998</dd><dt>AMC Javelin</dt><dd>17.070458287477</dd><dt>Camaro Z28</dt><dd>15.1745627691888</dd><dt>Pontiac Firebird</dt><dd>13.1138067710495</dd><dt>Fiat X1-9</dt><dd>26.3438602791038</dd><dt>Porsche 914-2</dt><dd>24.6416758246408</dd><dt>Lotus Europa</dt><dd>25.680296847703</dd><dt>Ford Pantera L</dt><dd>15.133347649226</dd><dt>Ferrari Dino</dt><dd>23.62366236156</dd><dt>Maserati Bora</dt><dd>17.1941036473653</dd><dt>Volvo 142E</dt><dd>24.6128252406668</dd></dl>\n"
      ],
      "text/latex": [
       "\\begin{description*}\n",
       "\\item[Mazda RX4] 23.0054355621182\n",
       "\\item[Mazda RX4 Wag] 23.0054355621182\n",
       "\\item[Datsun 710] 25.148621800183\n",
       "\\item[Hornet 4 Drive] 18.9663538057651\n",
       "\\item[Hornet Sportabout] 14.7624115695609\n",
       "\\item[Valiant] 20.3264527645371\n",
       "\\item[Duster 360] 14.7624115695609\n",
       "\\item[Merc 240D] 23.5535966576232\n",
       "\\item[Merc 230] 23.7967658654037\n",
       "\\item[Merc 280] 22.692200650401\n",
       "\\item[Merc 280C] 22.692200650401\n",
       "\\item[Merc 450SE] 18.2327246704275\n",
       "\\item[Merc 450SL] 18.2327246704275\n",
       "\\item[Merc 450SLC] 18.2327246704275\n",
       "\\item[Cadillac Fleetwood] 10.1463181337289\n",
       "\\item[Lincoln Continental] 10.6408995732823\n",
       "\\item[Chrysler Imperial] 11.465201972538\n",
       "\\item[Fiat 128] 26.3562248150927\n",
       "\\item[Honda Civic] 26.479870174981\n",
       "\\item[Toyota Corolla] 26.6694597268098\n",
       "\\item[Toyota Corona] 24.6499188486333\n",
       "\\item[Dodge Challenger] 16.493446607998\n",
       "\\item[AMC Javelin] 17.070458287477\n",
       "\\item[Camaro Z28] 15.1745627691888\n",
       "\\item[Pontiac Firebird] 13.1138067710495\n",
       "\\item[Fiat X1-9] 26.3438602791038\n",
       "\\item[Porsche 914-2] 24.6416758246408\n",
       "\\item[Lotus Europa] 25.680296847703\n",
       "\\item[Ford Pantera L] 15.133347649226\n",
       "\\item[Ferrari Dino] 23.62366236156\n",
       "\\item[Maserati Bora] 17.1941036473653\n",
       "\\item[Volvo 142E] 24.6128252406668\n",
       "\\end{description*}\n"
      ],
      "text/markdown": [
       "Mazda RX4\n",
       ":   23.0054355621182Mazda RX4 Wag\n",
       ":   23.0054355621182Datsun 710\n",
       ":   25.148621800183Hornet 4 Drive\n",
       ":   18.9663538057651Hornet Sportabout\n",
       ":   14.7624115695609Valiant\n",
       ":   20.3264527645371Duster 360\n",
       ":   14.7624115695609Merc 240D\n",
       ":   23.5535966576232Merc 230\n",
       ":   23.7967658654037Merc 280\n",
       ":   22.692200650401Merc 280C\n",
       ":   22.692200650401Merc 450SE\n",
       ":   18.2327246704275Merc 450SL\n",
       ":   18.2327246704275Merc 450SLC\n",
       ":   18.2327246704275Cadillac Fleetwood\n",
       ":   10.1463181337289Lincoln Continental\n",
       ":   10.6408995732823Chrysler Imperial\n",
       ":   11.465201972538Fiat 128\n",
       ":   26.3562248150927Honda Civic\n",
       ":   26.479870174981Toyota Corolla\n",
       ":   26.6694597268098Toyota Corona\n",
       ":   24.6499188486333Dodge Challenger\n",
       ":   16.493446607998AMC Javelin\n",
       ":   17.070458287477Camaro Z28\n",
       ":   15.1745627691888Pontiac Firebird\n",
       ":   13.1138067710495Fiat X1-9\n",
       ":   26.3438602791038Porsche 914-2\n",
       ":   24.6416758246408Lotus Europa\n",
       ":   25.680296847703Ford Pantera L\n",
       ":   15.133347649226Ferrari Dino\n",
       ":   23.62366236156Maserati Bora\n",
       ":   17.1941036473653Volvo 142E\n",
       ":   24.6128252406668\n",
       "\n"
      ],
      "text/plain": [
       "          Mazda RX4       Mazda RX4 Wag          Datsun 710      Hornet 4 Drive \n",
       "           23.00544            23.00544            25.14862            18.96635 \n",
       "  Hornet Sportabout             Valiant          Duster 360           Merc 240D \n",
       "           14.76241            20.32645            14.76241            23.55360 \n",
       "           Merc 230            Merc 280           Merc 280C          Merc 450SE \n",
       "           23.79677            22.69220            22.69220            18.23272 \n",
       "         Merc 450SL         Merc 450SLC  Cadillac Fleetwood Lincoln Continental \n",
       "           18.23272            18.23272            10.14632            10.64090 \n",
       "  Chrysler Imperial            Fiat 128         Honda Civic      Toyota Corolla \n",
       "           11.46520            26.35622            26.47987            26.66946 \n",
       "      Toyota Corona    Dodge Challenger         AMC Javelin          Camaro Z28 \n",
       "           24.64992            16.49345            17.07046            15.17456 \n",
       "   Pontiac Firebird           Fiat X1-9       Porsche 914-2        Lotus Europa \n",
       "           13.11381            26.34386            24.64168            25.68030 \n",
       "     Ford Pantera L        Ferrari Dino       Maserati Bora          Volvo 142E \n",
       "           15.13335            23.62366            17.19410            24.61283 "
      ]
     },
     "metadata": {},
     "output_type": "display_data"
    },
    {
     "data": {
      "text/html": [
       "<style>\n",
       ".list-inline {list-style: none; margin:0; padding: 0}\n",
       ".list-inline>li {display: inline-block}\n",
       ".list-inline>li:not(:last-child)::after {content: \"\\00b7\"; padding: 0 .5ex}\n",
       "</style>\n",
       "<ol class=list-inline><li>4.02177179380817</li><li>4.02177179380817</li><li>5.51602436029502</li><li>5.92263379871391</li><li>15.5046026475276</li><li>4.95709191271472</li><li>0.213824459663806</li><li>0.716398617986587</li><li>0.993542190433893</li><li>12.1954653826611</li><li>23.9336272037838</li><li>3.35887971759369</li><li>0.869975310824136</li><li>9.19741892661975</li><li>0.0643544892747953</li><li>0.058032604407603</li><li>10.4639182784718</li><li>36.5272184857016</li><li>15.3674178450032</li><li>52.2807126422247</li><li>9.9219887529755</li><li>0.986936162942638</li><li>3.49861420519123</li><li>3.51398557562876</li><li>37.041748020123</li><li>0.914203165875395</li><li>1.84504456536533</li><li>22.2755978458024</li><li>0.44442535679249</li><li>15.3951263275222</li><li>4.81409081538179</li><li>10.3222460270658</li></ol>\n"
      ],
      "text/latex": [
       "\\begin{enumerate*}\n",
       "\\item 4.02177179380817\n",
       "\\item 4.02177179380817\n",
       "\\item 5.51602436029502\n",
       "\\item 5.92263379871391\n",
       "\\item 15.5046026475276\n",
       "\\item 4.95709191271472\n",
       "\\item 0.213824459663806\n",
       "\\item 0.716398617986587\n",
       "\\item 0.993542190433893\n",
       "\\item 12.1954653826611\n",
       "\\item 23.9336272037838\n",
       "\\item 3.35887971759369\n",
       "\\item 0.869975310824136\n",
       "\\item 9.19741892661975\n",
       "\\item 0.0643544892747953\n",
       "\\item 0.058032604407603\n",
       "\\item 10.4639182784718\n",
       "\\item 36.5272184857016\n",
       "\\item 15.3674178450032\n",
       "\\item 52.2807126422247\n",
       "\\item 9.9219887529755\n",
       "\\item 0.986936162942638\n",
       "\\item 3.49861420519123\n",
       "\\item 3.51398557562876\n",
       "\\item 37.041748020123\n",
       "\\item 0.914203165875395\n",
       "\\item 1.84504456536533\n",
       "\\item 22.2755978458024\n",
       "\\item 0.44442535679249\n",
       "\\item 15.3951263275222\n",
       "\\item 4.81409081538179\n",
       "\\item 10.3222460270658\n",
       "\\end{enumerate*}\n"
      ],
      "text/markdown": [
       "1. 4.02177179380817\n",
       "2. 4.02177179380817\n",
       "3. 5.51602436029502\n",
       "4. 5.92263379871391\n",
       "5. 15.5046026475276\n",
       "6. 4.95709191271472\n",
       "7. 0.213824459663806\n",
       "8. 0.716398617986587\n",
       "9. 0.993542190433893\n",
       "10. 12.1954653826611\n",
       "11. 23.9336272037838\n",
       "12. 3.35887971759369\n",
       "13. 0.869975310824136\n",
       "14. 9.19741892661975\n",
       "15. 0.0643544892747953\n",
       "16. 0.058032604407603\n",
       "17. 10.4639182784718\n",
       "18. 36.5272184857016\n",
       "19. 15.3674178450032\n",
       "20. 52.2807126422247\n",
       "21. 9.9219887529755\n",
       "22. 0.986936162942638\n",
       "23. 3.49861420519123\n",
       "24. 3.51398557562876\n",
       "25. 37.041748020123\n",
       "26. 0.914203165875395\n",
       "27. 1.84504456536533\n",
       "28. 22.2755978458024\n",
       "29. 0.44442535679249\n",
       "30. 15.3951263275222\n",
       "31. 4.81409081538179\n",
       "32. 10.3222460270658\n",
       "\n",
       "\n"
      ],
      "text/plain": [
       " [1]  4.02177179  4.02177179  5.51602436  5.92263380 15.50460265  4.95709191\n",
       " [7]  0.21382446  0.71639862  0.99354219 12.19546538 23.93362720  3.35887972\n",
       "[13]  0.86997531  9.19741893  0.06435449  0.05803260 10.46391828 36.52721849\n",
       "[19] 15.36741785 52.28071264  9.92198875  0.98693616  3.49861421  3.51398558\n",
       "[25] 37.04174802  0.91420317  1.84504457 22.27559785  0.44442536 15.39512633\n",
       "[31]  4.81409082 10.32224603"
      ]
     },
     "metadata": {},
     "output_type": "display_data"
    },
    {
     "data": {
      "text/html": [
       "9.91120904006827"
      ],
      "text/latex": [
       "9.91120904006827"
      ],
      "text/markdown": [
       "9.91120904006827"
      ],
      "text/plain": [
       "[1] 9.911209"
      ]
     },
     "metadata": {},
     "output_type": "display_data"
    }
   ],
   "source": [
    "# coding stuff\n",
    "y_preds <- predict(model)\n",
    "\n",
    "errors <- unname((mpg - y_preds) ^ 2)\n",
    "\n",
    "err <- sum(errors) / length(mpg)\n",
    "\n",
    "# RMD presentation\n",
    "cat(\"MSE =\",err)\n",
    "\n",
    "\n",
    "y_preds #show me what it made\n",
    "errors #show me what it made\n",
    "err #show me what it made\n"
   ]
  },
  {
   "cell_type": "markdown",
   "id": "a94b2e7e-fccc-457b-9ded-638512178704",
   "metadata": {},
   "source": [
    "## The Gradient Descent Algorithm\n",
    "\n",
    "- is used to find the optimal intercept and gradient for data\n",
    "- the algorithm below iterates over each set of xy data pairs and calculates new intercept and gradient values for new MSE \n",
    "- Then, the new MSE is subtracted from the old MSE and, if the difference is negligible, the optimal values are found\n",
    "\n",
    "Details of this algorithm are found here:\n",
    "https://www.r-bloggers.com/2017/02/implementing-the-gradient-descent-algorithm-in-r/"
   ]
  },
  {
   "cell_type": "code",
   "execution_count": 24,
   "id": "409b6ca4-1741-43b7-80b8-fae65be79948",
   "metadata": {
    "tags": []
   },
   "outputs": [
    {
     "data": {
      "text/html": [
       "'Optimal intercept: 29.599851498846 Optimal slope: -0.0412151089291662'"
      ],
      "text/latex": [
       "'Optimal intercept: 29.599851498846 Optimal slope: -0.0412151089291662'"
      ],
      "text/markdown": [
       "'Optimal intercept: 29.599851498846 Optimal slope: -0.0412151089291662'"
      ],
      "text/plain": [
       "[1] \"Optimal intercept: 29.599851498846 Optimal slope: -0.0412151089291662\""
      ]
     },
     "metadata": {},
     "output_type": "display_data"
    },
    {
     "data": {
      "image/png": "[encoded data removed]",
      "text/plain": [
       "plot without title"
      ]
     },
     "metadata": {
      "image/png": {
       "height": 420,
       "width": 420
      }
     },
     "output_type": "display_data"
    }
   ],
   "source": [
    "gradientDesc <- function(x, y, learn_rate, conv_threshold, n, max_iter) {\n",
    "  plot(x, y, col = \"blue\", pch = 20) # plot x and y\n",
    "  m <- runif(1, 0, 1) # generate random values from a uniform dist. n = 1, min = 0, max = 1\n",
    "  c <- runif(1, 0, 1)\n",
    "  yhat <- m * x + c  \n",
    "  MSE <- sum((y - yhat) ^ 2) / n\n",
    "  converged = F # converged is false\n",
    "  iterations = 0\n",
    "  while(converged == F) {\n",
    "    ## Implement the gradient descent algorithm\n",
    "    m_new <- m - learn_rate * ((1 / n) * (sum((yhat - y) * x))) # m minus the learn_rate. What is n counting?\n",
    "    c_new <- c - learn_rate * ((1 / n) * (sum(yhat - y)))\n",
    "    m <- m_new # assign m and c the new values\n",
    "    c <- c_new\n",
    "    yhat <- m * x + c # assign yhat again\n",
    "    MSE_new <- sum((y - yhat) ^ 2) / n # calculate new MSE\n",
    "    if(MSE - MSE_new <= conv_threshold) {\n",
    "      abline(c, m) # If the difference is less than or equal to the convergence threshold, print the linear regression line and report the values of c and m\n",
    "      converged = T # what is the conv_threshold?\n",
    "      return(paste(\"Optimal intercept:\", c, \"Optimal slope:\", m))\n",
    "    }\n",
    "    iterations = iterations + 1\n",
    "    if(iterations > max_iter) { \n",
    "      abline(c, m)  # what is the max_iter?\n",
    "      converged = T\n",
    "      return(paste(\"Optimal intercept:\", c, \"Optimal slope:\", m))\n",
    "    }\n",
    "  }\n",
    "}\n",
    "\n",
    "# Run the function \n",
    "gradientDesc(disp, mpg, 0.0000293, 0.001, 32, 2500000)"
   ]
  },
  {
   "cell_type": "markdown",
   "id": "b142d767-869f-4359-8835-4ba51f697f72",
   "metadata": {},
   "source": [
    "Compare the optimal results found to those calculated by fitting a linear regression above."
   ]
  },
  {
   "cell_type": "code",
   "execution_count": 23,
   "id": "fd90f7f7-dc1c-4b6f-b845-406a467aea99",
   "metadata": {
    "tags": []
   },
   "outputs": [
    {
     "data": {
      "text/html": [
       "<style>\n",
       ".dl-inline {width: auto; margin:0; padding: 0}\n",
       ".dl-inline>dt, .dl-inline>dd {float: none; width: auto; display: inline-block}\n",
       ".dl-inline>dt::after {content: \":\\0020\"; padding-right: .5ex}\n",
       ".dl-inline>dt:not(:first-of-type) {padding-left: .5ex}\n",
       "</style><dl class=dl-inline><dt>(Intercept)</dt><dd>29.5998547561639</dd><dt>disp</dt><dd>-0.0412151199627861</dd></dl>\n"
      ],
      "text/latex": [
       "\\begin{description*}\n",
       "\\item[(Intercept)] 29.5998547561639\n",
       "\\item[disp] -0.0412151199627861\n",
       "\\end{description*}\n"
      ],
      "text/markdown": [
       "(Intercept)\n",
       ":   29.5998547561639disp\n",
       ":   -0.0412151199627861\n",
       "\n"
      ],
      "text/plain": [
       "(Intercept)        disp \n",
       "29.59985476 -0.04121512 "
      ]
     },
     "metadata": {},
     "output_type": "display_data"
    }
   ],
   "source": [
    "coef(model) # call the coefficients from earlier"
   ]
  },
  {
   "cell_type": "code",
   "execution_count": null,
   "id": "09786ee2-3e88-402c-9190-3359a184d00b",
   "metadata": {},
   "outputs": [],
   "source": []
  },
  {
   "cell_type": "code",
   "execution_count": null,
   "id": "2b78d134-9be2-428f-bb54-d55a872af078",
   "metadata": {},
   "outputs": [],
   "source": []
  },
  {
   "cell_type": "code",
   "execution_count": null,
   "id": "acf31b48-bd79-4ff1-bf55-56bdd527bbb3",
   "metadata": {},
   "outputs": [],
   "source": []
  }
 ],
 "metadata": {
  "kernelspec": {
   "display_name": "R",
   "language": "R",
   "name": "ir"
  },
  "language_info": {
   "codemirror_mode": "r",
   "file_extension": ".r",
   "mimetype": "text/x-r-source",
   "name": "R",
   "pygments_lexer": "r",
   "version": "4.3.1"
  }
 },
 "nbformat": 4,
 "nbformat_minor": 5
}
