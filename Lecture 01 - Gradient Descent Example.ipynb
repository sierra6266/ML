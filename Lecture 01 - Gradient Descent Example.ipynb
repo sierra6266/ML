{
 "cells": [
  {
   "cell_type": "markdown",
   "id": "b6fe05aa-521d-4d09-bee2-0ad8427f9bd3",
   "metadata": {},
   "source": [
    "# Lecture 01 - Gradient Descent Example\n",
    "\n",
    "**Objective:** \n",
    "To learn how to use a dataset and perform a gradient descent loss on it."
   ]
  },
  {
   "cell_type": "markdown",
   "id": "59b3de0a-6c41-4db8-b9ab-05fdeab19030",
   "metadata": {},
   "source": [
    "## Look up the data set\n",
    "\n",
    "The datast mtcars is built it, so we will use the help() function to look up the information available on it"
   ]
  },
  {
   "cell_type": "code",
   "execution_count": 1,
   "id": "a4e379d9-7f03-4ceb-b728-562e411ecb2d",
   "metadata": {},
   "outputs": [
    {
     "data": {
      "text/html": [
       "\n",
       "<table style=\"width: 100%;\"><tr><td>mtcars {datasets}</td><td style=\"text-align: right;\">R Documentation</td></tr></table>\n",
       "\n",
       "<h2 id='mtcars'>Motor Trend Car Road Tests</h2>\n",
       "\n",
       "<h3>Description</h3>\n",
       "\n",
       "<p>The data was extracted from the 1974 <em>Motor Trend</em> US magazine,\n",
       "and comprises fuel consumption and 10 aspects of\n",
       "automobile design and performance for 32 automobiles (1973&ndash;74\n",
       "models).\n",
       "</p>\n",
       "\n",
       "\n",
       "<h3>Usage</h3>\n",
       "\n",
       "<pre><code class='language-R'>mtcars</code></pre>\n",
       "\n",
       "\n",
       "<h3>Format</h3>\n",
       "\n",
       "<p>A data frame with 32 observations on 11 (numeric) variables.\n",
       "</p>\n",
       "\n",
       "<table>\n",
       "<tr>\n",
       " <td style=\"text-align: right;\">\n",
       "    [, 1] </td><td style=\"text-align: left;\"> mpg  </td><td style=\"text-align: left;\"> Miles/(US) gallon </td>\n",
       "</tr>\n",
       "<tr>\n",
       " <td style=\"text-align: right;\">\n",
       "    [, 2] </td><td style=\"text-align: left;\"> cyl  </td><td style=\"text-align: left;\"> Number of cylinders </td>\n",
       "</tr>\n",
       "<tr>\n",
       " <td style=\"text-align: right;\">\n",
       "    [, 3] </td><td style=\"text-align: left;\"> disp </td><td style=\"text-align: left;\"> Displacement (cu.in.) </td>\n",
       "</tr>\n",
       "<tr>\n",
       " <td style=\"text-align: right;\">\n",
       "    [, 4] </td><td style=\"text-align: left;\"> hp   </td><td style=\"text-align: left;\"> Gross horsepower </td>\n",
       "</tr>\n",
       "<tr>\n",
       " <td style=\"text-align: right;\">\n",
       "    [, 5] </td><td style=\"text-align: left;\"> drat </td><td style=\"text-align: left;\"> Rear axle ratio </td>\n",
       "</tr>\n",
       "<tr>\n",
       " <td style=\"text-align: right;\">\n",
       "    [, 6] </td><td style=\"text-align: left;\"> wt   </td><td style=\"text-align: left;\"> Weight (1000 lbs) </td>\n",
       "</tr>\n",
       "<tr>\n",
       " <td style=\"text-align: right;\">\n",
       "    [, 7] </td><td style=\"text-align: left;\"> qsec </td><td style=\"text-align: left;\"> 1/4 mile time </td>\n",
       "</tr>\n",
       "<tr>\n",
       " <td style=\"text-align: right;\">\n",
       "    [, 8] </td><td style=\"text-align: left;\"> vs   </td><td style=\"text-align: left;\"> Engine (0 = V-shaped, 1 = straight) </td>\n",
       "</tr>\n",
       "<tr>\n",
       " <td style=\"text-align: right;\">\n",
       "    [, 9] </td><td style=\"text-align: left;\"> am   </td><td style=\"text-align: left;\"> Transmission (0 = automatic, 1 = manual) </td>\n",
       "</tr>\n",
       "<tr>\n",
       " <td style=\"text-align: right;\">\n",
       "    [,10] </td><td style=\"text-align: left;\"> gear </td><td style=\"text-align: left;\"> Number of forward gears </td>\n",
       "</tr>\n",
       "<tr>\n",
       " <td style=\"text-align: right;\">\n",
       "    [,11] </td><td style=\"text-align: left;\"> carb </td><td style=\"text-align: left;\"> Number of carburetors\n",
       "  </td>\n",
       "</tr>\n",
       "\n",
       "</table>\n",
       "\n",
       "\n",
       "\n",
       "<h3>Note</h3>\n",
       "\n",
       "<p>Henderson and Velleman (1981) comment in a footnote to Table 1:\n",
       "&lsquo;Hocking [original transcriber]'s noncrucial coding of the\n",
       "Mazda's rotary engine as a straight six-cylinder engine and the\n",
       "Porsche's flat engine as a V engine, as well as the inclusion of the\n",
       "diesel Mercedes 240D, have been retained to enable direct comparisons\n",
       "to be made with previous analyses.&rsquo;\n",
       "</p>\n",
       "\n",
       "\n",
       "<h3>Source</h3>\n",
       "\n",
       "<p>Henderson and Velleman (1981),\n",
       "Building multiple regression models interactively.\n",
       "<em>Biometrics</em>, <b>37</b>, 391&ndash;411.\n",
       "</p>\n",
       "\n",
       "\n",
       "<h3>Examples</h3>\n",
       "\n",
       "<pre><code class='language-R'>require(graphics)\n",
       "pairs(mtcars, main = \"mtcars data\", gap = 1/4)\n",
       "coplot(mpg ~ disp | as.factor(cyl), data = mtcars,\n",
       "       panel = panel.smooth, rows = 1)\n",
       "## possibly more meaningful, e.g., for summary() or bivariate plots:\n",
       "mtcars2 &lt;- within(mtcars, {\n",
       "   vs &lt;- factor(vs, labels = c(\"V\", \"S\"))\n",
       "   am &lt;- factor(am, labels = c(\"automatic\", \"manual\"))\n",
       "   cyl  &lt;- ordered(cyl)\n",
       "   gear &lt;- ordered(gear)\n",
       "   carb &lt;- ordered(carb)\n",
       "})\n",
       "summary(mtcars2)\n",
       "</code></pre>\n",
       "\n",
       "<hr /><div style=\"text-align: center;\">[Package <em>datasets</em> version 4.3.1 ]</div>\n",
       "</div>"
      ],
      "text/latex": [
       "\\inputencoding{utf8}\n",
       "\\HeaderA{mtcars}{Motor Trend Car Road Tests}{mtcars}\n",
       "\\keyword{datasets}{mtcars}\n",
       "%\n",
       "\\begin{Description}\n",
       "The data was extracted from the 1974 \\emph{Motor Trend} US magazine,\n",
       "and comprises fuel consumption and 10 aspects of\n",
       "automobile design and performance for 32 automobiles (1973--74\n",
       "models).\n",
       "\\end{Description}\n",
       "%\n",
       "\\begin{Usage}\n",
       "\\begin{verbatim}\n",
       "mtcars\n",
       "\\end{verbatim}\n",
       "\\end{Usage}\n",
       "%\n",
       "\\begin{Format}\n",
       "A data frame with 32 observations on 11 (numeric) variables.\n",
       "\n",
       "\\Tabular{rll}{\n",
       "[, 1] & mpg  & Miles/(US) gallon \\\\{}\n",
       "[, 2] & cyl  & Number of cylinders \\\\{}\n",
       "[, 3] & disp & Displacement (cu.in.) \\\\{}\n",
       "[, 4] & hp   & Gross horsepower \\\\{}\n",
       "[, 5] & drat & Rear axle ratio \\\\{}\n",
       "[, 6] & wt   & Weight (1000 lbs) \\\\{}\n",
       "[, 7] & qsec & 1/4 mile time \\\\{}\n",
       "[, 8] & vs   & Engine (0 = V-shaped, 1 = straight) \\\\{}\n",
       "[, 9] & am   & Transmission (0 = automatic, 1 = manual) \\\\{}\n",
       "[,10] & gear & Number of forward gears \\\\{}\n",
       "[,11] & carb & Number of carburetors\n",
       "}\n",
       "\\end{Format}\n",
       "%\n",
       "\\begin{Note}\n",
       "Henderson and Velleman (1981) comment in a footnote to Table 1:\n",
       "`Hocking [original transcriber]'s noncrucial coding of the\n",
       "Mazda's rotary engine as a straight six-cylinder engine and the\n",
       "Porsche's flat engine as a V engine, as well as the inclusion of the\n",
       "diesel Mercedes 240D, have been retained to enable direct comparisons\n",
       "to be made with previous analyses.'\n",
       "\\end{Note}\n",
       "%\n",
       "\\begin{Source}\n",
       "Henderson and Velleman (1981),\n",
       "Building multiple regression models interactively.\n",
       "\\emph{Biometrics}, \\bold{37}, 391--411.\n",
       "\\end{Source}\n",
       "%\n",
       "\\begin{Examples}\n",
       "\\begin{ExampleCode}\n",
       "require(graphics)\n",
       "pairs(mtcars, main = \"mtcars data\", gap = 1/4)\n",
       "coplot(mpg ~ disp | as.factor(cyl), data = mtcars,\n",
       "       panel = panel.smooth, rows = 1)\n",
       "## possibly more meaningful, e.g., for summary() or bivariate plots:\n",
       "mtcars2 <- within(mtcars, {\n",
       "   vs <- factor(vs, labels = c(\"V\", \"S\"))\n",
       "   am <- factor(am, labels = c(\"automatic\", \"manual\"))\n",
       "   cyl  <- ordered(cyl)\n",
       "   gear <- ordered(gear)\n",
       "   carb <- ordered(carb)\n",
       "})\n",
       "summary(mtcars2)\n",
       "\\end{ExampleCode}\n",
       "\\end{Examples}"
      ],
      "text/plain": [
       "mtcars                package:datasets                 R Documentation\n",
       "\n",
       "_\bM_\bo_\bt_\bo_\br _\bT_\br_\be_\bn_\bd _\bC_\ba_\br _\bR_\bo_\ba_\bd _\bT_\be_\bs_\bt_\bs\n",
       "\n",
       "_\bD_\be_\bs_\bc_\br_\bi_\bp_\bt_\bi_\bo_\bn:\n",
       "\n",
       "     The data was extracted from the 1974 _Motor Trend_ US magazine,\n",
       "     and comprises fuel consumption and 10 aspects of automobile design\n",
       "     and performance for 32 automobiles (1973-74 models).\n",
       "\n",
       "_\bU_\bs_\ba_\bg_\be:\n",
       "\n",
       "     mtcars\n",
       "     \n",
       "_\bF_\bo_\br_\bm_\ba_\bt:\n",
       "\n",
       "     A data frame with 32 observations on 11 (numeric) variables.\n",
       "\n",
       "       [, 1]  mpg   Miles/(US) gallon                        \n",
       "       [, 2]  cyl   Number of cylinders                      \n",
       "       [, 3]  disp  Displacement (cu.in.)                    \n",
       "       [, 4]  hp    Gross horsepower                         \n",
       "       [, 5]  drat  Rear axle ratio                          \n",
       "       [, 6]  wt    Weight (1000 lbs)                        \n",
       "       [, 7]  qsec  1/4 mile time                            \n",
       "       [, 8]  vs    Engine (0 = V-shaped, 1 = straight)      \n",
       "       [, 9]  am    Transmission (0 = automatic, 1 = manual) \n",
       "       [,10]  gear  Number of forward gears                  \n",
       "       [,11]  carb  Number of carburetors                    \n",
       "      \n",
       "_\bN_\bo_\bt_\be:\n",
       "\n",
       "     Henderson and Velleman (1981) comment in a footnote to Table 1:\n",
       "     ‘Hocking [original transcriber]'s noncrucial coding of the Mazda's\n",
       "     rotary engine as a straight six-cylinder engine and the Porsche's\n",
       "     flat engine as a V engine, as well as the inclusion of the diesel\n",
       "     Mercedes 240D, have been retained to enable direct comparisons to\n",
       "     be made with previous analyses.’\n",
       "\n",
       "_\bS_\bo_\bu_\br_\bc_\be:\n",
       "\n",
       "     Henderson and Velleman (1981), Building multiple regression models\n",
       "     interactively.  _Biometrics_, *37*, 391-411.\n",
       "\n",
       "_\bE_\bx_\ba_\bm_\bp_\bl_\be_\bs:\n",
       "\n",
       "     require(graphics)\n",
       "     pairs(mtcars, main = \"mtcars data\", gap = 1/4)\n",
       "     coplot(mpg ~ disp | as.factor(cyl), data = mtcars,\n",
       "            panel = panel.smooth, rows = 1)\n",
       "     ## possibly more meaningful, e.g., for summary() or bivariate plots:\n",
       "     mtcars2 <- within(mtcars, {\n",
       "        vs <- factor(vs, labels = c(\"V\", \"S\"))\n",
       "        am <- factor(am, labels = c(\"automatic\", \"manual\"))\n",
       "        cyl  <- ordered(cyl)\n",
       "        gear <- ordered(gear)\n",
       "        carb <- ordered(carb)\n",
       "     })\n",
       "     summary(mtcars2)\n",
       "     "
      ]
     },
     "metadata": {},
     "output_type": "display_data"
    }
   ],
   "source": [
    "help(mtcars)\n"
   ]
  },
  {
   "cell_type": "markdown",
   "id": "f0d7f490-c3ff-4917-862c-c35d8498357f",
   "metadata": {},
   "source": [
    "### Load up the dataset"
   ]
  },
  {
   "cell_type": "code",
   "execution_count": 2,
   "id": "1e467e8c-0f68-41fe-a5de-870370219e18",
   "metadata": {},
   "outputs": [
    {
     "data": {
      "image/png": "[encoded data removed]",
      "text/plain": [
       "plot without title"
      ]
     },
     "metadata": {
      "image/png": {
       "height": 420,
       "width": 420
      }
     },
     "output_type": "display_data"
    }
   ],
   "source": [
    "attach(mtcars)\n",
    "plot(disp, mpg, col = \"blue\", pch = 20)"
   ]
  },
  {
   "cell_type": "markdown",
   "id": "af784169-2169-4064-9a47-dd7b4da33c8d",
   "metadata": {},
   "source": [
    "### Build a linear regression model on fuel consumption (mpg) and engine discplacement (disp)\n",
    "And preent the coeffocients of ther egression model.\n",
    "\n",
    "#### Linear regression is based on fitting a line to the data\n",
    "\n",
    "$ y = m x + c$\n",
    "\n",
    "where:\n",
    " - $y$ is the outcome\n",
    " - $m$ is the slope \n",
    " - $x$ is the predictor\n",
    " - $c$ is the intercept \n",
    " \n",
    " We use the ML() function to fit the line and coeff() to obtain the intercept and slope of the x = disp"
   ]
  },
  {
   "cell_type": "code",
   "execution_count": 10,
   "id": "fa763fea-84c4-4fe1-8892-22d4cbbeeded",
   "metadata": {},
   "outputs": [
    {
     "data": {
      "text/html": [
       "<style>\n",
       ".dl-inline {width: auto; margin:0; padding: 0}\n",
       ".dl-inline>dt, .dl-inline>dd {float: none; width: auto; display: inline-block}\n",
       ".dl-inline>dt::after {content: \":\\0020\"; padding-right: .5ex}\n",
       ".dl-inline>dt:not(:first-of-type) {padding-left: .5ex}\n",
       "</style><dl class=dl-inline><dt>(Intercept)</dt><dd>29.5998547561639</dd><dt>disp</dt><dd>-0.0412151199627861</dd></dl>\n"
      ],
      "text/latex": [
       "\\begin{description*}\n",
       "\\item[(Intercept)] 29.5998547561639\n",
       "\\item[disp] -0.0412151199627861\n",
       "\\end{description*}\n"
      ],
      "text/markdown": [
       "(Intercept)\n",
       ":   29.5998547561639disp\n",
       ":   -0.0412151199627861\n",
       "\n"
      ],
      "text/plain": [
       "(Intercept)        disp \n",
       "29.59985476 -0.04121512 "
      ]
     },
     "metadata": {},
     "output_type": "display_data"
    }
   ],
   "source": [
    "model <- lm(mpg ~ disp, data = mtcars)\n",
    "coef(model)"
   ]
  },
  {
   "cell_type": "markdown",
   "id": "ad854f47-0ffd-4d3f-a341-caeffa49af30",
   "metadata": {},
   "source": [
    "#### Now we plot the data and the fitted line "
   ]
  },
  {
   "cell_type": "code",
   "execution_count": 13,
   "id": "a5d683fb-e68a-4e81-9d45-38e42b4c7190",
   "metadata": {},
   "outputs": [
    {
     "data": {
      "image/png": "[encoded data removed]",
      "text/plain": [
       "plot without title"
      ]
     },
     "metadata": {
      "image/png": {
       "height": 420,
       "width": 420
      }
     },
     "output_type": "display_data"
    }
   ],
   "source": [
    "plot(disp, mpg, col = \"blue\", pch = 20)\n",
    "abline(model)"
   ]
  },
  {
   "cell_type": "markdown",
   "id": "796f744f-52e2-43fb-bfce-865e492b39f3",
   "metadata": {
    "tags": []
   },
   "source": [
    "## Calculate the error of prediction using the fitted line\n",
    "\n",
    "### The error is based on Mean Squared Error\n",
    "$ MSE = Σ(y_{actual} – y_{preds})^2 / n$"
   ]
  },
  {
   "cell_type": "code",
   "execution_count": 16,
   "id": "3e06afd8-8257-4f6a-a326-7bfaaac1b96c",
   "metadata": {},
   "outputs": [
    {
     "name": "stdout",
     "output_type": "stream",
     "text": [
      "MSE = 9.911209"
     ]
    }
   ],
   "source": [
    "y_preds <- predict(model)\n",
    "errors <- unname((mpg - y_preds) ^ 2)\n",
    "err <- sum(errors) / length(mpg)\n",
    "cat(\"MSE =\",err)"
   ]
  },
  {
   "cell_type": "markdown",
   "id": "a94b2e7e-fccc-457b-9ded-638512178704",
   "metadata": {},
   "source": [
    "## The Gradient Descent Algorithm\n",
    "\n",
    "- is used to find the optimal intercept and gradient for data\n",
    "- the algorithm below iterates over each set of xy data pairs and clculates new intercept and gradient values for new MSE \n",
    "- Then, the new MSE is subtracted from the old MSE and, if the difference is negligible, the optimal values are found\n",
    "\n",
    "Details of this algorithm are found here:\n",
    "https://www.r-bloggers.com/2017/02/implementing-the-gradient-descent-algorithm-in-r/"
   ]
  },
  {
   "cell_type": "code",
   "execution_count": 20,
   "id": "409b6ca4-1741-43b7-80b8-fae65be79948",
   "metadata": {},
   "outputs": [
    {
     "data": {
      "text/html": [
       "'*Optimal intercept:* 29.5998514559518 Optimal slope: -0.0412151087838692'"
      ],
      "text/latex": [
       "'*Optimal intercept:* 29.5998514559518 Optimal slope: -0.0412151087838692'"
      ],
      "text/markdown": [
       "'*Optimal intercept:* 29.5998514559518 Optimal slope: -0.0412151087838692'"
      ],
      "text/plain": [
       "[1] \"*Optimal intercept:* 29.5998514559518 Optimal slope: -0.0412151087838692\""
      ]
     },
     "metadata": {},
     "output_type": "display_data"
    },
    {
     "data": {
      "image/png": "[encoded data removed]",
      "text/plain": [
       "plot without title"
      ]
     },
     "metadata": {
      "image/png": {
       "height": 420,
       "width": 420
      }
     },
     "output_type": "display_data"
    }
   ],
   "source": [
    "gradientDesc <- function(x, y, learn_rate, conv_threshold, n, max_iter) {\n",
    "  plot(x, y, col = \"blue\", pch = 20)\n",
    "  m <- runif(1, 0, 1)\n",
    "  c <- runif(1, 0, 1)\n",
    "  yhat <- m * x + c\n",
    "  MSE <- sum((y - yhat) ^ 2) / n\n",
    "  converged = F\n",
    "  iterations = 0\n",
    "  while(converged == F) {\n",
    "    ## Implement the gradient descent algorithm\n",
    "    m_new <- m - learn_rate * ((1 / n) * (sum((yhat - y) * x)))\n",
    "    c_new <- c - learn_rate * ((1 / n) * (sum(yhat - y)))\n",
    "    m <- m_new\n",
    "    c <- c_new\n",
    "    yhat <- m * x + c\n",
    "    MSE_new <- sum((y - yhat) ^ 2) / n\n",
    "    if(MSE - MSE_new <= conv_threshold) {\n",
    "      abline(c, m) \n",
    "      converged = T\n",
    "      return(paste(\"Optimal intercept:\", c, \"Optimal slope:\", m))\n",
    "    }\n",
    "    iterations = iterations + 1\n",
    "    if(iterations > max_iter) { \n",
    "      abline(c, m) \n",
    "      converged = T\n",
    "      return(paste(\"Optimal intercept:\", c, \"Optimal slope:\", m))\n",
    "    }\n",
    "  }\n",
    "}\n",
    "\n",
    "# Run the function \n",
    "gradientDesc(disp, mpg, 0.0000293, 0.001, 32, 2500000)"
   ]
  },
  {
   "cell_type": "markdown",
   "id": "b142d767-869f-4359-8835-4ba51f697f72",
   "metadata": {},
   "source": [
    "Compare the optimal results found to those calculated by fitting a linear regression above."
   ]
  },
  {
   "cell_type": "code",
   "execution_count": null,
   "id": "fd90f7f7-dc1c-4b6f-b845-406a467aea99",
   "metadata": {},
   "outputs": [],
   "source": []
  },
  {
   "cell_type": "code",
   "execution_count": null,
   "id": "09786ee2-3e88-402c-9190-3359a184d00b",
   "metadata": {},
   "outputs": [],
   "source": []
  },
  {
   "cell_type": "code",
   "execution_count": null,
   "id": "2b78d134-9be2-428f-bb54-d55a872af078",
   "metadata": {},
   "outputs": [],
   "source": []
  },
  {
   "cell_type": "code",
   "execution_count": null,
   "id": "acf31b48-bd79-4ff1-bf55-56bdd527bbb3",
   "metadata": {},
   "outputs": [],
   "source": []
  }
 ],
 "metadata": {
  "kernelspec": {
   "display_name": "R",
   "language": "R",
   "name": "ir"
  },
  "language_info": {
   "codemirror_mode": "r",
   "file_extension": ".r",
   "mimetype": "text/x-r-source",
   "name": "R",
   "pygments_lexer": "r",
   "version": "4.3.1"
  }
 },
 "nbformat": 4,
 "nbformat_minor": 5
}
